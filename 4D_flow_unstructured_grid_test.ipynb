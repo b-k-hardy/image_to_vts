{
 "cells": [
  {
   "cell_type": "code",
   "execution_count": 26,
   "id": "b7c48598",
   "metadata": {},
   "outputs": [
    {
     "data": {
      "text/plain": [
       "'/Users/bkhardy/University of Michigan Dropbox/Brandon Hardy/fsi_ad/data/4d_flow_paraview/4D_flow_nrrd/structured_pyevtk.vts'"
      ]
     },
     "execution_count": 26,
     "metadata": {},
     "output_type": "execute_result"
    }
   ],
   "source": [
    "from pyevtk.hl import gridToVTK\n",
    "import numpy as np\n",
    "\n",
    "# ===================\n",
    "# Serial Example\n",
    "# ===================\n",
    "\n",
    "# Dimensions\n",
    "nx, ny, nz = 6, 6, 2\n",
    "lx, ly, lz = 1.0, 1.0, 1.0\n",
    "dx, dy, dz = lx / nx, ly / ny, lz / nz\n",
    "\n",
    "\n",
    "# Coordinates\n",
    "X = np.arange(0, lx + 0.1 * dx, dx, dtype=\"float64\")\n",
    "Y = np.arange(0, ly + 0.1 * dy, dy, dtype=\"float64\")\n",
    "Z = np.arange(0, lz + 0.1 * dz, dz, dtype=\"float64\")\n",
    "\n",
    "x, y, z = np.meshgrid(X, Y, Z, indexing='ij')\n",
    "\n",
    "# rotate all coordinates by 45 degrees in the x-y plane\n",
    "theta = np.pi / 4\n",
    "rotation_matrix = np.array(\n",
    "    [\n",
    "        [np.cos(theta), -np.sin(theta), 0],\n",
    "        [np.sin(theta), np.cos(theta), 0],\n",
    "        [0, 0, 1]\n",
    "    ]\n",
    ")\n",
    "for k in range(nz + 1):\n",
    "    for j in range(ny + 1):\n",
    "        for i in range(nx + 1):\n",
    "            coords = np.array([x[i, j, k], y[i, j, k], z[i, j, k]])\n",
    "            rotated_coords = np.dot(rotation_matrix, coords)\n",
    "            x[i, j, k] = rotated_coords[0]\n",
    "            y[i, j, k] = rotated_coords[1]\n",
    "            z[i, j, k] = rotated_coords[2]\n",
    "\n",
    "# Variables\n",
    "pressure = np.random.normal(size=(nx, ny, nz))\n",
    "temp = np.random.normal(size=(nx+1, ny+1, nz+1))\n",
    "\n",
    "# shuffle the coordinates along all axes\n",
    "#x = np.random.permutation(x.flatten()).reshape(x.shape)\n",
    "#y = np.random.permutation(x.flatten()).reshape(y.shape)\n",
    "#z = np.random.permutation(x.flatten()).reshape(z.shape)\n",
    "\n",
    "gridToVTK(\n",
    "    \"./structured_pyevtk\",\n",
    "    x,\n",
    "    y,\n",
    "    z,\n",
    "    cellData={\"pressure\": pressure.flatten()},\n",
    "    pointData={\"temp\": temp.flatten()},\n",
    ")"
   ]
  },
  {
   "cell_type": "code",
   "execution_count": 13,
   "id": "192394b8",
   "metadata": {},
   "outputs": [
    {
     "name": "stdout",
     "output_type": "stream",
     "text": [
      "(6, 6, 2)\n"
     ]
    }
   ],
   "source": [
    "print(pressure.shape)"
   ]
  },
  {
   "cell_type": "code",
   "execution_count": null,
   "id": "5747bf34",
   "metadata": {},
   "outputs": [
    {
     "data": {
      "application/vnd.jupyter.widget-view+json": {
       "model_id": "70a05587e7d7466b806829153774607b",
       "version_major": 2,
       "version_minor": 0
      },
      "text/plain": [
       "Widget(value='<iframe src=\"http://localhost:49721/index.html?ui=P_0x15183fb10_8&reconnect=auto\" class=\"pyvista…"
      ]
     },
     "metadata": {},
     "output_type": "display_data"
    },
    {
     "ename": "",
     "evalue": "",
     "output_type": "error",
     "traceback": [
      "\u001b[1;31mThe Kernel crashed while executing code in the current cell or a previous cell. \n",
      "\u001b[1;31mPlease review the code in the cell(s) to identify a possible cause of the failure. \n",
      "\u001b[1;31mClick <a href='https://aka.ms/vscodeJupyterKernelCrash'>here</a> for more info. \n",
      "\u001b[1;31mView Jupyter <a href='command:jupyter.viewOutput'>log</a> for further details."
     ]
    }
   ],
   "source": [
    "# TESTING WITH PYVISTA\n",
    "\n",
    "import pyvista as pv\n",
    "\n",
    "# Coordinates\n",
    "X = np.arange(0, lx + 0.1 * dx, dx, dtype=\"float64\")\n",
    "Y = np.arange(0, ly + 0.1 * dy, dy, dtype=\"float64\")\n",
    "Z = np.arange(0, lz + 0.1 * dz, dz, dtype=\"float64\")\n",
    "\n",
    "\n",
    "x, y, z = np.meshgrid(X, Y, Z, indexing='ij')\n",
    "\n",
    "for k in range(nz + 1):\n",
    "    for j in range(ny + 1):\n",
    "        for i in range(nx + 1):\n",
    "            coords = np.array([x[i, j, k], y[i, j, k], z[i, j, k]])\n",
    "            rotated_coords = np.dot(rotation_matrix, coords)\n",
    "            x[i, j, k] = rotated_coords[0]\n",
    "            y[i, j, k] = rotated_coords[1]\n",
    "            z[i, j, k] = rotated_coords[2]\n",
    "\n",
    "grid = pv.StructuredGrid(x, y, z)\n",
    "grid.point_data[\"temp\"] = temp.flatten()\n",
    "grid.cell_data[\"pressure\"] = pressure.flatten()\n",
    "grid.plot(\n",
    "    show_edges=True,\n",
    "    show_scalar_bar=True,\n",
    "    scalars=\"temp\",\n",
    "    clim=[0, 1],\n",
    "    cpos=\"iso\",)\n",
    "grid.save(\"./structured_pyvista.vts\")"
   ]
  }
 ],
 "metadata": {
  "kernelspec": {
   "display_name": "3.13.2",
   "language": "python",
   "name": "python3"
  },
  "language_info": {
   "codemirror_mode": {
    "name": "ipython",
    "version": 3
   },
   "file_extension": ".py",
   "mimetype": "text/x-python",
   "name": "python",
   "nbconvert_exporter": "python",
   "pygments_lexer": "ipython3",
   "version": "3.13.2"
  }
 },
 "nbformat": 4,
 "nbformat_minor": 5
}
