{
 "cells": [
  {
   "cell_type": "code",
   "execution_count": 2,
   "id": "43f47769",
   "metadata": {},
   "outputs": [],
   "source": [
    "import numpy as np\n",
    "import nrrd"
   ]
  },
  {
   "cell_type": "code",
   "execution_count": null,
   "id": "71b33539",
   "metadata": {},
   "outputs": [],
   "source": [
    "# convert this bad boy to a normal script\n",
    "def import_flow(\n",
    "    paths: tuple[str, str, str],\n",
    "    venc: float,\n",
    "    slope: float,\n",
    "    intercept: float,\n",
    "    timestep: float,\n",
    ") -> np.ndarray:\n",
    "    \"\"\"Import 4D flow phase data, convert to velocity, and return as a 5D numpy array.\n",
    "\n",
    "    Args:\n",
    "        paths (tuple[str, str, str]): _description_\n",
    "        vencs (tuple[int, int, int]): _description_\n",
    "        phase_range (int, optional): _description_. Defaults to 4096.\n",
    "        check (None | int, optional): _description_. Defaults to None.\n",
    "\n",
    "    Returns:\n",
    "        np.ndarray: 5-dimensional array of flow data (vel component, x, y, z, t)\n",
    "\n",
    "    \"\"\"\n",
    "    vels = []\n",
    "    \n",
    "    for i, path in enumerate(paths):\n",
    "        # read in the nrrd file\n",
    "        data, header = nrrd.read(f\"{path} {timestep}.nrrd\")\n",
    "        data[data < -199] = 0  # set weird cropped values to 0\n",
    "        data = data/100 # convert to m/s\n",
    "        \n",
    "        vels.append(data)\n",
    "        \n",
    "    return vels"
   ]
  },
  {
   "cell_type": "code",
   "execution_count": 3,
   "id": "f1055c21",
   "metadata": {},
   "outputs": [],
   "source": [
    "phase_directions = [\"RL\", \"AP\", \"FH\"]\n",
    "paths = [f\"{direction}_4D/{903+i} MR DelRec - 4D PC_{direction} - 24 frames Volume Sequence by TriggerTime\" for i, direction in enumerate(phase_directions)]\n",
    "\n",
    "\n",
    "mask_TL = nrrd.read(\"Segmentation_TL_4DFLOWspace.nrrd\")[0]\n",
    "mask_FL = nrrd.read(\"Segmentation_FL_4DFLOWspace.nrrd\")[0]"
   ]
  },
  {
   "cell_type": "code",
   "execution_count": 11,
   "id": "08f06b20",
   "metadata": {},
   "outputs": [
    {
     "name": "stdout",
     "output_type": "stream",
     "text": [
      "0 completed!\n",
      "1 completed!\n",
      "2 completed!\n",
      "3 completed!\n",
      "4 completed!\n",
      "5 completed!\n",
      "6 completed!\n",
      "7 completed!\n",
      "8 completed!\n",
      "9 completed!\n",
      "10 completed!\n",
      "11 completed!\n",
      "12 completed!\n",
      "13 completed!\n",
      "14 completed!\n",
      "15 completed!\n",
      "16 completed!\n",
      "17 completed!\n",
      "18 completed!\n",
      "19 completed!\n",
      "20 completed!\n",
      "21 completed!\n",
      "22 completed!\n",
      "23 completed!\n",
      "[None, [0.6176123075716905, 1.0102566672806637, -0.07468636559087288], [-0.13977715082611109, -0.0016487629766575264, -1.1781770576368467], [-2.1141470884664617, 1.3108729827097434, 0.24898538834010298], None]\n"
     ]
    }
   ],
   "source": [
    "dx = np.array([1.18644, 1.18644, 2.5])/1000 # convert to meters\n",
    "\n",
    "\n",
    "\n",
    "# convert this bad boy to a normal script\n",
    "def import_flow(\n",
    "    paths: tuple[str, str, str],\n",
    "    venc: float,\n",
    "    slope: float,\n",
    "    intercept: float,\n",
    "    timestep: float,\n",
    ") -> np.ndarray:\n",
    "    \"\"\"Import 4D flow phase data, convert to velocity, and return as a 5D numpy array.\n",
    "\n",
    "    Args:\n",
    "        paths (tuple[str, str, str]): _description_\n",
    "        vencs (tuple[int, int, int]): _description_\n",
    "        phase_range (int, optional): _description_. Defaults to 4096.\n",
    "        check (None | int, optional): _description_. Defaults to None.\n",
    "\n",
    "    Returns:\n",
    "        np.ndarray: 5-dimensional array of flow data (vel component, x, y, z, t)\n",
    "\n",
    "    \"\"\"\n",
    "    vels = []\n",
    "    \n",
    "    for i, path in enumerate(paths):\n",
    "        # read in the nrrd file\n",
    "        data, header = nrrd.read(f\"{path} {timestep}.nrrd\")\n",
    "        data[data < -199] = 0  # set weird cropped values to 0\n",
    "        data = data/100 # convert to m/s\n",
    "        \n",
    "        vels.append(data)\n",
    "        \n",
    "    return vels, header\n",
    "\n",
    "vel_tl_full = np.zeros((3, 288, 288, 40, 24)) # hardcoded for now\n",
    "for nt in range(24):\n",
    "    vel_t, header = import_flow(paths, 200, 0.09768009768009, -200.0, nt)\n",
    "    vel_tl = []\n",
    "    vel_fl = []\n",
    "    for i, vel in enumerate(vel_t):\n",
    "        \n",
    "        vel_tl.append(vel * mask_TL)\n",
    "        vel_fl.append(vel * mask_FL)\n",
    "        \n",
    "    vel_tl_full[0, :, :, :, nt] = vel_tl[0]\n",
    "    vel_tl_full[1, :, :, :, nt] = vel_tl[1]\n",
    "    vel_tl_full[2, :, :, :, nt] = vel_tl[2]\n",
    "\n",
    "    #imageToVTK(f\"UM16_TL_{nt}\", cellData={\"velocity\": (vel_tl[1], -vel_tl[2], -vel_tl[0])}, spacing=dx.tolist())\n",
    "    #imageToVTK(f\"UM16_FL_{nt}\", cellData={\"velocity\": (vel_fl[1], -vel_fl[2], -vel_fl[0])}, spacing=dx.tolist())\n",
    "    print(f\"{nt} completed!\")\n",
    "    \n",
    "header[\"dimension\"] = 5\n",
    "header[\"sizes\"] = [3, 288, 288, 40, 24]\n",
    "header[\"kinds\"] = [\"vector\", \"domain\", \"domain\", \"domain\", \"list\"]\n",
    "old_direction = header[\"space directions\"].tolist()\n",
    "header[\"space directions\"] = [None] + old_direction + [None]\n",
    "print(header[\"space directions\"])\n",
    "#nrrd.write(\"UM16_TL_4DFLOW_TEST.nrrd\", vel_tl_full, header)"
   ]
  },
  {
   "cell_type": "code",
   "execution_count": 8,
   "id": "5a34c912",
   "metadata": {},
   "outputs": [
    {
     "name": "stdout",
     "output_type": "stream",
     "text": [
      "(3, 64, 64, 32)\n",
      "NRRD file saved as vector_field.nrrd\n"
     ]
    }
   ],
   "source": [
    "import numpy as np\n",
    "import nrrd\n",
    "\n",
    "# Define data shape\n",
    "vector_components = 3\n",
    "x, y, z = 64, 64, 32\n",
    "timepoints = 5\n",
    "\n",
    "# Create synthetic data: shape = (3, x, y, z, t)\n",
    "data = np.random.rand(3, x, y, z).astype(np.float32)\n",
    "print(data.shape)\n",
    "\n",
    "# Define header metadata\n",
    "header = {\n",
    "    'type': 'float',\n",
    "    'dimension': 3,\n",
    "    'sizes': data.shape,\n",
    "    'kinds': ['vector', 'domain', 'domain', 'domain'],\n",
    "    'endian': 'little',\n",
    "    'encoding': 'raw',\n",
    "    'space': 'right-anterior-superior',\n",
    "    #'space directions': [[None, None, None], [2,1,0], [0,0.5,0], [0,0,1]],\n",
    "    'space origin': [0.0, 0.0, 0.0]\n",
    "}\n",
    "\n",
    "# Save NRRD file\n",
    "nrrd.write('vector_field.nrrd', data, header)\n",
    "print(\"NRRD file saved as vector_field.nrrd\")"
   ]
  },
  {
   "cell_type": "code",
   "execution_count": 18,
   "id": "8538ee44",
   "metadata": {},
   "outputs": [
    {
     "data": {
      "text/plain": [
       "4096"
      ]
     },
     "execution_count": 18,
     "metadata": {},
     "output_type": "execute_result"
    }
   ],
   "source": [
    "64*64"
   ]
  },
  {
   "cell_type": "code",
   "execution_count": null,
   "id": "537e9f32",
   "metadata": {},
   "outputs": [],
   "source": []
  }
 ],
 "metadata": {
  "kernelspec": {
   "display_name": "3.13.2",
   "language": "python",
   "name": "python3"
  },
  "language_info": {
   "codemirror_mode": {
    "name": "ipython",
    "version": 3
   },
   "file_extension": ".py",
   "mimetype": "text/x-python",
   "name": "python",
   "nbconvert_exporter": "python",
   "pygments_lexer": "ipython3",
   "version": "3.13.2"
  }
 },
 "nbformat": 4,
 "nbformat_minor": 5
}
